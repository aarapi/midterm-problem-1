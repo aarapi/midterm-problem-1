{
 "cells": [
  {
   "cell_type": "code",
   "execution_count": 1,
   "metadata": {},
   "outputs": [],
   "source": [
    "import pandas as pd\n",
    "import numpy as np\n",
    "from matplotlib import pyplot as plt\n",
    "%matplotlib inline"
   ]
  },
  {
   "cell_type": "markdown",
   "metadata": {},
   "source": [
    "## 1. Writing python functions\n",
    "\n",
    "### 1.1 Generating a sequence\n",
    "\n",
    "You are going to write a function that takes an integer m which is a starting number, and a size n\n",
    "and returns a list which has n elements. The recipe this sequence is:\n",
    "\n",
    "    The first element of the list a[0]= m, to create a[k] you look at a[k-1] mod 3. If (a[k-1] mod 3 ==0) in other words if a[k-1] is an integer which is divisible by 3, you divide it by 3. Otherwise if not then a[k]=a[k-1]*4 - 1.  Return the list a[0], a[1], ...., a[n]\n",
    "\n",
    "If the function is called \"mystery_sequence(0,10)\" then here are some example outputs you must match:\n",
    "\n",
    "    >> print(mystery_sequence(0,10))\n",
    "    [0, 0, 0, 0, 0, 0, 0, 0, 0, 0]\n",
    "    >> print(mystery_sequence(3,10))\n",
    "    [3, 1, 3, 1, 3, 1, 3, 1, 3, 1]\n",
    "    >> print(mystery_sequence(20,10))\n",
    "    [20, 79, 315, 105, 35, 139, 555, 185, 739, 2955]"
   ]
  },
  {
   "cell_type": "code",
   "execution_count": null,
   "metadata": {},
   "outputs": [],
   "source": [
    "# implement the function mystery_sequence\n",
    "\n",
    "\n",
    "print(mystery_sequence(0,10))\n",
    "print(mystery_sequence(3,10))\n",
    "print(mystery_sequence(20,10))"
   ]
  }
 ],
 "metadata": {
  "kernelspec": {
   "display_name": "Python 3 (ipykernel)",
   "language": "python",
   "name": "python3"
  },
  "language_info": {
   "codemirror_mode": {
    "name": "ipython",
    "version": 3
   },
   "file_extension": ".py",
   "mimetype": "text/x-python",
   "name": "python",
   "nbconvert_exporter": "python",
   "pygments_lexer": "ipython3",
   "version": "3.9.12"
  }
 },
 "nbformat": 4,
 "nbformat_minor": 4
}
